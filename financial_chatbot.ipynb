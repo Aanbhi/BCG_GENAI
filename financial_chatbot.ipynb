{
  "nbformat": 4,
  "nbformat_minor": 0,
  "metadata": {
    "colab": {
      "provenance": []
    },
    "kernelspec": {
      "name": "python3",
      "display_name": "Python 3"
    },
    "language_info": {
      "name": "python"
    }
  },
  "cells": [
    {
      "cell_type": "code",
      "source": [
        "!pip install pandas requests beautifulsoup4 transformers\n"
      ],
      "metadata": {
        "colab": {
          "base_uri": "https://localhost:8080/"
        },
        "id": "eM-XGjkU5kWQ",
        "outputId": "c9eefc17-f26c-438b-caf1-3a12a43b8772"
      },
      "execution_count": 16,
      "outputs": [
        {
          "output_type": "stream",
          "name": "stdout",
          "text": [
            "Requirement already satisfied: pandas in /usr/local/lib/python3.11/dist-packages (2.2.2)\n",
            "Requirement already satisfied: requests in /usr/local/lib/python3.11/dist-packages (2.32.3)\n",
            "Requirement already satisfied: beautifulsoup4 in /usr/local/lib/python3.11/dist-packages (4.13.3)\n",
            "Requirement already satisfied: transformers in /usr/local/lib/python3.11/dist-packages (4.48.3)\n",
            "Requirement already satisfied: numpy>=1.23.2 in /usr/local/lib/python3.11/dist-packages (from pandas) (1.26.4)\n",
            "Requirement already satisfied: python-dateutil>=2.8.2 in /usr/local/lib/python3.11/dist-packages (from pandas) (2.8.2)\n",
            "Requirement already satisfied: pytz>=2020.1 in /usr/local/lib/python3.11/dist-packages (from pandas) (2025.1)\n",
            "Requirement already satisfied: tzdata>=2022.7 in /usr/local/lib/python3.11/dist-packages (from pandas) (2025.1)\n",
            "Requirement already satisfied: charset-normalizer<4,>=2 in /usr/local/lib/python3.11/dist-packages (from requests) (3.4.1)\n",
            "Requirement already satisfied: idna<4,>=2.5 in /usr/local/lib/python3.11/dist-packages (from requests) (3.10)\n",
            "Requirement already satisfied: urllib3<3,>=1.21.1 in /usr/local/lib/python3.11/dist-packages (from requests) (2.3.0)\n",
            "Requirement already satisfied: certifi>=2017.4.17 in /usr/local/lib/python3.11/dist-packages (from requests) (2025.1.31)\n",
            "Requirement already satisfied: soupsieve>1.2 in /usr/local/lib/python3.11/dist-packages (from beautifulsoup4) (2.6)\n",
            "Requirement already satisfied: typing-extensions>=4.0.0 in /usr/local/lib/python3.11/dist-packages (from beautifulsoup4) (4.12.2)\n",
            "Requirement already satisfied: filelock in /usr/local/lib/python3.11/dist-packages (from transformers) (3.17.0)\n",
            "Requirement already satisfied: huggingface-hub<1.0,>=0.24.0 in /usr/local/lib/python3.11/dist-packages (from transformers) (0.28.1)\n",
            "Requirement already satisfied: packaging>=20.0 in /usr/local/lib/python3.11/dist-packages (from transformers) (24.2)\n",
            "Requirement already satisfied: pyyaml>=5.1 in /usr/local/lib/python3.11/dist-packages (from transformers) (6.0.2)\n",
            "Requirement already satisfied: regex!=2019.12.17 in /usr/local/lib/python3.11/dist-packages (from transformers) (2024.11.6)\n",
            "Requirement already satisfied: tokenizers<0.22,>=0.21 in /usr/local/lib/python3.11/dist-packages (from transformers) (0.21.0)\n",
            "Requirement already satisfied: safetensors>=0.4.1 in /usr/local/lib/python3.11/dist-packages (from transformers) (0.5.2)\n",
            "Requirement already satisfied: tqdm>=4.27 in /usr/local/lib/python3.11/dist-packages (from transformers) (4.67.1)\n",
            "Requirement already satisfied: fsspec>=2023.5.0 in /usr/local/lib/python3.11/dist-packages (from huggingface-hub<1.0,>=0.24.0->transformers) (2024.10.0)\n",
            "Requirement already satisfied: six>=1.5 in /usr/local/lib/python3.11/dist-packages (from python-dateutil>=2.8.2->pandas) (1.17.0)\n"
          ]
        }
      ]
    },
    {
      "cell_type": "markdown",
      "source": [
        "code\n"
      ],
      "metadata": {
        "id": "axvWny6fCw7g"
      }
    },
    {
      "cell_type": "code",
      "source": [
        "# Import required libraries\n",
        "import pandas as pd\n",
        "from google.colab import files\n",
        "\n",
        "# Step 1: Upload the CSV file\n",
        "print(\"Please upload the 'financial_data.csv' file.\")\n",
        "uploaded = files.upload()\n",
        "\n",
        "# Step 2: Load CSV into Pandas DataFrame\n",
        "file_name = list(uploaded.keys())[0]  # Get the uploaded filename\n",
        "df = pd.read_csv(file_name)  # Load CSV file into a DataFrame\n",
        "\n",
        "# Display the first few rows of the dataset\n",
        "print(\"\\n📊 Preview of Uploaded Financial Data:\")\n",
        "print(df.head())\n",
        "\n",
        "# Step 3: Define Chatbot Logic\n",
        "def financial_chatbot(user_query):\n",
        "    \"\"\"Handles predefined financial queries using the uploaded dataset.\"\"\"\n",
        "    response = \"Sorry, I can only provide information on predefined queries.\"\n",
        "\n",
        "    if \"total revenue\" in user_query.lower():\n",
        "        revenue = df.iloc[0]['Total Revenue']\n",
        "        response = f\"📈 The total revenue is ${revenue:,}.\"\n",
        "\n",
        "    elif \"net income change\" in user_query.lower():\n",
        "        net_income = df.iloc[0]['Net Income Change']\n",
        "        response = f\"💰 The net income has changed by ${net_income:,} over the last year.\"\n",
        "\n",
        "    elif \"gross margin\" in user_query.lower():\n",
        "        gross_margin = df.iloc[0]['Gross Margin']\n",
        "        response = f\"📊 The gross margin is {gross_margin}%.\"\n",
        "\n",
        "    elif \"operating cash flow\" in user_query.lower():\n",
        "        cash_flow = df.iloc[0]['Operating Cash Flow']\n",
        "        response = f\"💵 The operating cash flow is ${cash_flow:,}.\"\n",
        "\n",
        "    elif \"eps\" in user_query.lower():  # Earnings Per Share\n",
        "        eps = df.iloc[0]['EPS']\n",
        "        response = f\"📌 The Earnings Per Share (EPS) is ${eps}.\"\n",
        "\n",
        "    return response\n",
        "\n",
        "# Step 4: Run the Chatbot in a Loop\n",
        "print(\"\\n💬 Welcome to the Financial Chatbot!\")\n",
        "print(\"Ask financial queries (e.g., 'What is the total revenue?'). Type 'exit' to stop.\")\n",
        "\n",
        "while True:\n",
        "    user_input = input(\"\\nYou: \")\n",
        "    if user_input.lower() == \"exit\":\n",
        "        print(\"👋 Exiting the chatbot. Have a great day!\")\n",
        "        break\n",
        "    else:\n",
        "        print(\"🤖 Bot:\", financial_chatbot(user_input))\n"
      ],
      "metadata": {
        "id": "kgiCojvGD0FO"
      },
      "execution_count": null,
      "outputs": []
    }
  ]
}